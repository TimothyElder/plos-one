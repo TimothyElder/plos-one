{
 "cells": [
  {
   "cell_type": "code",
   "execution_count": 125,
   "metadata": {
    "collapsed": true
   },
   "outputs": [],
   "source": [
    "import os \n",
    "import pickle\n",
    "import pandas as pd \n",
    "from bs4 import BeautifulSoup\n",
    "import numpy as np\n",
    "import matplotlib.mlab as mlab\n",
    "import matplotlib.pyplot as plt"
   ]
  },
  {
   "cell_type": "code",
   "execution_count": 126,
   "metadata": {
    "collapsed": true
   },
   "outputs": [],
   "source": [
    "with open(\"sample_subjects_list.txt\", \"rb\") as fp:\n",
    "    sample_subjects_list = pickle.load(fp)\n",
    "    \n",
    "with open(\"file_names.txt\", \"rb\") as fp:\n",
    "    file_names = pickle.load(fp)"
   ]
  },
  {
   "cell_type": "code",
   "execution_count": 65,
   "metadata": {},
   "outputs": [
    {
     "name": "stdout",
     "output_type": "stream",
     "text": [
      "[['infectious diseases', 'feature', 'ecology'], ['genetics and genomics', 'physiology', 'synopsis', 'molecular biology', 'cell biology', 'developmental biology', 'neuroscience', 'drosophila'], ['eubacteria', 'microbiology', 'synopsis', 'insects', 'evolutionary biology', 'developmental biology', 'ecology'], ['homo (human)', 'neuroscience', 'research article', 'computational biology'], ['genetics and genomics', 'synopsis', 'molecular biology', 'developmental biology', 'caenorhabditis'], ['genetics and genomics', 'cell biology', 'evolutionary biology', 'ecology', 'homo', 'unsolved mystery'], ['genetics and genomics', 'research article', 'cell biology', 'molecular biology', 'saccharomyces', 'computational biology/systems biology'], ['homo (human)', 'physiology', 'synopsis', 'molecular biology'], ['genetics and genomics', 'homo (human)', 'synopsis'], ['genetics and genomics', 'eubacteria', 'microbiology', 'synopsis', 'evolutionary biology'], ['synopsis', 'cell biology', 'molecular biology', 'developmental biology', 'oncology', 'computational biology', 'xenopus'], ['research article', 'cell biology', 'molecular biology', 'saccharomyces', 'eukaryotes', 'homo (human)', 'schizosaccharomymes'], ['editorial', 'science policy'], ['genetics and genomics', 'research article', 'cell biology', 'developmental biology', 'oncology', 'drosophila'], ['science policy', 'message from the founders'], ['arthropods', 'genetics and genomics', 'journal club', 'evolutionary biology', 'evolutionary biology/animal behavior', 'ecology'], ['neuroscience', 'obituary'], ['microbiology', 'plasmodium', 'science policy', 'anopheles', 'infectious diseases', 'homo (human)', 'essay'], ['book review/science in the media', 'dinosaurs', 'evolutionary biology/animal behavior', 'evolutionary biology/paleontology'], ['drosophila', 'neuroscience', 'research article', 'developmental biology'], ['primates', 'biotechnology/bioengineering', 'neuroscience', 'research article'], ['genetics and genomics', 'synopsis', 'developmental biology', 'oncology', 'drosophila'], ['genetics and genomics', 'synopsis', 'evolutionary biology', 'caenorhabditis', 'ecology', 'computational biology'], ['genetics and genomics', 'research article', 'evolutionary biology', 'caenorhabditis', 'computational biology'], ['evolutionary biology', 'community page', 'ecology'], ['genetics and genomics', 'synopsis', 'cell biology', 'saccharomyces', 'computational biology/systems biology'], ['feature', 'computational biology'], ['genetics and genomics', 'journal club', 'developmental biology', 'neuroscience', 'drosophila'], ['homo (human)', 'primates', 'biotechnology/bioengineering', 'neuroscience', 'primer']]\n"
     ]
    }
   ],
   "source": [
    "print(sample_subjects_list[21:50])"
   ]
  },
  {
   "cell_type": "code",
   "execution_count": 127,
   "metadata": {
    "collapsed": true
   },
   "outputs": [],
   "source": [
    "target_dir = r'C:\\Users\\timothyelder\\Documents\\plos-one\\plos_sample_data'"
   ]
  },
  {
   "cell_type": "code",
   "execution_count": 6,
   "metadata": {},
   "outputs": [
    {
     "data": {
      "text/plain": [
       "['journal.pbio.0000001.xml',\n",
       " 'journal.pbio.0000002.xml',\n",
       " 'journal.pbio.0000003.xml',\n",
       " 'journal.pbio.0000004.xml',\n",
       " 'journal.pbio.0000005.xml',\n",
       " 'journal.pbio.0000006.xml',\n",
       " 'journal.pbio.0000007.xml',\n",
       " 'journal.pbio.0000008.xml',\n",
       " 'journal.pbio.0000009.xml',\n",
       " 'journal.pbio.0000010.xml']"
      ]
     },
     "execution_count": 6,
     "metadata": {},
     "output_type": "execute_result"
    }
   ],
   "source": [
    "file_names[0:10]"
   ]
  },
  {
   "cell_type": "code",
   "execution_count": 77,
   "metadata": {
    "collapsed": true
   },
   "outputs": [],
   "source": [
    "file = r'C:\\Users\\timothyelder\\Documents\\plos-one\\plos_sample_data\\journal.pbio.0000001.xml'\n",
    "with open(file, encoding=\"utf8\") as f:\n",
    "    soup = BeautifulSoup(f.read(), 'xml')\n"
   ]
  },
  {
   "cell_type": "code",
   "execution_count": 78,
   "metadata": {},
   "outputs": [
    {
     "data": {
      "text/plain": [
       "[['molecular biology',\n",
       "  'research article',\n",
       "  'immunology',\n",
       "  'mus (mouse)',\n",
       "  'homo (human)',\n",
       "  'cell biology']]"
      ]
     },
     "execution_count": 78,
     "metadata": {},
     "output_type": "execute_result"
    }
   ],
   "source": [
    "subjects = []\n",
    "for nlist in subjects_temp:\n",
    "    row = []\n",
    "    for item in nlist:\n",
    "        row.append((item.text).lower())\n",
    "    subjects.append(row)\n",
    "subjects"
   ]
  },
  {
   "cell_type": "code",
   "execution_count": 128,
   "metadata": {
    "collapsed": true
   },
   "outputs": [],
   "source": [
    "## Let's alter the above function so that it works on a soup object instead of a directory\n",
    "def subject_extraction(soup_object):\n",
    "\n",
    "    temp_subjects = []\n",
    "    temp_subjects.append(soup_object.findAll('subject'))\n",
    "\n",
    "    set_subjects = []\n",
    "    subjects_temp = []\n",
    "    for i in temp_subjects:\n",
    "        set_subjects=set(i)\n",
    "        subjects_temp.append(list(set_subjects))\n",
    "\n",
    "    nested_list = []\n",
    "    for nlist in subjects_temp:\n",
    "        row = []\n",
    "        for item in nlist:\n",
    "            row.append((item.text).lower())\n",
    "        nested_list.append(row)\n",
    "    \n",
    "    subjects = []\n",
    "    for i in nested_list:\n",
    "        for thing in i:\n",
    "            subjects.append(thing)\n",
    "\n",
    "\n",
    "    if 'social sciences' in subjects:\n",
    "        if \"natural science\" not in subjects:\n",
    "            if 'carcinogens' in subjects:\n",
    "                social_car_filenames.append(file)\n",
    "                \n",
    "    if 'natural sciences' in subjects:\n",
    "        if 'social sciences' not in subjects:\n",
    "            if 'carcinogens' in subjects:\n",
    "                natural_car_filenames.append(file)\n"
   ]
  },
  {
   "cell_type": "code",
   "execution_count": 129,
   "metadata": {},
   "outputs": [],
   "source": [
    "subject_extraction(soup)"
   ]
  },
  {
   "cell_type": "code",
   "execution_count": 91,
   "metadata": {},
   "outputs": [
    {
     "name": "stdout",
     "output_type": "stream",
     "text": [
      "journal.pbio.0000001.xml\n"
     ]
    }
   ],
   "source": [
    "print(file_names[0])"
   ]
  },
  {
   "cell_type": "code",
   "execution_count": 95,
   "metadata": {
    "collapsed": true
   },
   "outputs": [],
   "source": [
    "#print(sample_subjects_list[0:50])"
   ]
  },
  {
   "cell_type": "code",
   "execution_count": 17,
   "metadata": {
    "collapsed": true
   },
   "outputs": [],
   "source": [
    "#A problem with this is that a nested list is generated, which is likely due to the code that was designed to go through all \n",
    "#the files and find all the subjects as opposed to what I want to do now which is just find the subjects in one file as a soup obect\n",
    "subject_extraction(soup)"
   ]
  },
  {
   "cell_type": "code",
   "execution_count": 130,
   "metadata": {},
   "outputs": [],
   "source": [
    "#lets try the soup oriented fucntion out on the sample data set\n",
    "natural_car_filenames = []\n",
    "social_car_filenames = []\n",
    "for file in os.scandir(target_dir):\n",
    "    with open(file.path, encoding='utf8') as f:\n",
    "        soup = BeautifulSoup(f.read(), 'xml')\n",
    "        subject_extraction(soup)\n",
    "\n",
    "        "
   ]
  },
  {
   "cell_type": "code",
   "execution_count": 138,
   "metadata": {},
   "outputs": [
    {
     "data": {
      "text/plain": [
       "0"
      ]
     },
     "execution_count": 138,
     "metadata": {},
     "output_type": "execute_result"
    }
   ],
   "source": [
    "len(social_car_filenames)"
   ]
  },
  {
   "cell_type": "code",
   "execution_count": null,
   "metadata": {
    "collapsed": true
   },
   "outputs": [],
   "source": []
  }
 ],
 "metadata": {
  "kernelspec": {
   "display_name": "Python 3",
   "language": "python",
   "name": "python3"
  },
  "language_info": {
   "codemirror_mode": {
    "name": "ipython",
    "version": 3
   },
   "file_extension": ".py",
   "mimetype": "text/x-python",
   "name": "python",
   "nbconvert_exporter": "python",
   "pygments_lexer": "ipython3",
   "version": "3.6.3"
  }
 },
 "nbformat": 4,
 "nbformat_minor": 2
}
